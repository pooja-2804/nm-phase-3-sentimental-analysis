import pandas as pd
import matplotlib.pyplot as plt
import seaborn as sns

# Load the dataset
df = pd.read_csv('data/emotion_data.csv')

# Visualizing the emotion distribution
plt.figure(figsize=(10,6))
sns.countplot(data=df, x='emotion')
plt.title('Emotion Distribution')
plt.show()
